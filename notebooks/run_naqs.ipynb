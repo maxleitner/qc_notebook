{
  "cells": [
    {
      "cell_type": "markdown",
      "metadata": {
        "id": "pFg2N0C7WYx3"
      },
      "source": [
        "This notebook is for running NAQS on molecules and reproduction of experimental results/baslines.  It is split into two sections, ***which will set up different environments and so will require the runtime resetting if you want to switch***.\n",
        "\n",
        "First, however, we'll just pull down and step into the repo itself."
      ]
    },
    {
      "cell_type": "code",
      "execution_count": 2,
      "metadata": {
        "collapsed": true,
        "id": "yquqQ25aWYyB",
        "outputId": "a99f0b36-caac-42b3-e699-b0a45a6f3299",
        "colab": {
          "base_uri": "https://localhost:8080/"
        }
      },
      "outputs": [
        {
          "output_type": "stream",
          "name": "stdout",
          "text": [
            "Cloning into 'naqs-for-quantum-chemistry'...\n",
            "remote: Enumerating objects: 230, done.\u001b[K\n",
            "remote: Counting objects: 100% (40/40), done.\u001b[K\n",
            "remote: Compressing objects: 100% (23/23), done.\u001b[K\n",
            "remote: Total 230 (delta 21), reused 32 (delta 17), pack-reused 190 (from 1)\u001b[K\n",
            "Receiving objects: 100% (230/230), 26.86 MiB | 22.96 MiB/s, done.\n",
            "Resolving deltas: 100% (55/55), done.\n"
          ]
        }
      ],
      "source": [
        "!git clone https://github.com/tomdbar/naqs-for-quantum-chemistry.git\n",
        "\n",
        "import os\n",
        "os.chdir(\"naqs-for-quantum-chemistry\")"
      ]
    },
    {
      "cell_type": "markdown",
      "metadata": {
        "id": "bhFP3YiyWYyG"
      },
      "source": [
        "# 1. Solve molecules using NAQS\n",
        "\n",
        "To run this section, we first install OpenFermion and build the necessary cython scripts."
      ]
    },
    {
      "cell_type": "code",
      "execution_count": 3,
      "metadata": {
        "collapsed": true,
        "id": "Ks8zrVjuWYyJ",
        "outputId": "98195d7e-a4f4-45a7-dd45-f56c71126a68",
        "colab": {
          "base_uri": "https://localhost:8080/"
        }
      },
      "outputs": [
        {
          "output_type": "stream",
          "name": "stdout",
          "text": [
            "Collecting openfermion==0.11.0\n",
            "  Downloading openfermion-0.11.0.tar.gz (631 kB)\n",
            "\u001b[?25l     \u001b[90m━━━━━━━━━━━━━━━━━━━━━━━━━━━━━━━━━━━━━━━━\u001b[0m \u001b[32m0.0/631.4 kB\u001b[0m \u001b[31m?\u001b[0m eta \u001b[36m-:--:--\u001b[0m\r\u001b[2K     \u001b[91m━━━━━━━━━━━\u001b[0m\u001b[90m╺\u001b[0m\u001b[90m━━━━━━━━━━━━━━━━━━━━━━━━━━━\u001b[0m \u001b[32m184.3/631.4 kB\u001b[0m \u001b[31m5.3 MB/s\u001b[0m eta \u001b[36m0:00:01\u001b[0m\r\u001b[2K     \u001b[90m━━━━━━━━━━━━━━━━━━━━━━━━━━━━━━━━━━━━━━━\u001b[0m \u001b[32m631.4/631.4 kB\u001b[0m \u001b[31m9.0 MB/s\u001b[0m eta \u001b[36m0:00:00\u001b[0m\n",
            "\u001b[?25h  Preparing metadata (setup.py) ... \u001b[?25l\u001b[?25hdone\n",
            "Requirement already satisfied: numpy>=1.11.0 in /usr/local/lib/python3.11/dist-packages (from openfermion==0.11.0) (2.0.2)\n",
            "Requirement already satisfied: scipy>=1.1.0 in /usr/local/lib/python3.11/dist-packages (from openfermion==0.11.0) (1.15.3)\n",
            "Requirement already satisfied: h5py>=2.8 in /usr/local/lib/python3.11/dist-packages (from openfermion==0.11.0) (3.14.0)\n",
            "Requirement already satisfied: networkx in /usr/local/lib/python3.11/dist-packages (from openfermion==0.11.0) (3.5)\n",
            "Collecting pubchempy (from openfermion==0.11.0)\n",
            "  Downloading PubChemPy-1.0.4.tar.gz (29 kB)\n",
            "  Preparing metadata (setup.py) ... \u001b[?25l\u001b[?25hdone\n",
            "Requirement already satisfied: requests~=2.18 in /usr/local/lib/python3.11/dist-packages (from openfermion==0.11.0) (2.32.3)\n",
            "Requirement already satisfied: charset-normalizer<4,>=2 in /usr/local/lib/python3.11/dist-packages (from requests~=2.18->openfermion==0.11.0) (3.4.2)\n",
            "Requirement already satisfied: idna<4,>=2.5 in /usr/local/lib/python3.11/dist-packages (from requests~=2.18->openfermion==0.11.0) (3.10)\n",
            "Requirement already satisfied: urllib3<3,>=1.21.1 in /usr/local/lib/python3.11/dist-packages (from requests~=2.18->openfermion==0.11.0) (2.4.0)\n",
            "Requirement already satisfied: certifi>=2017.4.17 in /usr/local/lib/python3.11/dist-packages (from requests~=2.18->openfermion==0.11.0) (2025.4.26)\n",
            "Building wheels for collected packages: openfermion, pubchempy\n",
            "  Building wheel for openfermion (setup.py) ... \u001b[?25l\u001b[?25hdone\n",
            "  Created wheel for openfermion: filename=openfermion-0.11.0-py3-none-any.whl size=741932 sha256=cb3f7234c3909a2bea043d6b0cc5443e2b4bd14978b692c97ca301fa6cd9f767\n",
            "  Stored in directory: /root/.cache/pip/wheels/da/8a/ed/eab45c8ff1021cde17066d8315e49d9341c8639a88cc8e2b25\n",
            "  Building wheel for pubchempy (setup.py) ... \u001b[?25l\u001b[?25hdone\n",
            "  Created wheel for pubchempy: filename=PubChemPy-1.0.4-py3-none-any.whl size=13818 sha256=ec77b221563a2d4ddc8bced85520861759135ee4e9fb0181ee2833a5d2ae4103\n",
            "  Stored in directory: /root/.cache/pip/wheels/8b/e3/6c/3385b2db08b0985a87f5b117f98d0cb61a3ae3ca3bcbbd8307\n",
            "Successfully built openfermion pubchempy\n",
            "Installing collected packages: pubchempy, openfermion\n",
            "Successfully installed openfermion-0.11.0 pubchempy-1.0.4\n",
            "Collecting openfermionpsi4\n",
            "  Downloading openfermionpsi4-0.5-py3-none-any.whl.metadata (7.6 kB)\n",
            "Requirement already satisfied: openfermion>=0.5 in /usr/local/lib/python3.11/dist-packages (from openfermionpsi4) (0.11.0)\n",
            "Requirement already satisfied: numpy>=1.11.0 in /usr/local/lib/python3.11/dist-packages (from openfermion>=0.5->openfermionpsi4) (2.0.2)\n",
            "Requirement already satisfied: scipy>=1.1.0 in /usr/local/lib/python3.11/dist-packages (from openfermion>=0.5->openfermionpsi4) (1.15.3)\n",
            "Requirement already satisfied: h5py>=2.8 in /usr/local/lib/python3.11/dist-packages (from openfermion>=0.5->openfermionpsi4) (3.14.0)\n",
            "Requirement already satisfied: networkx in /usr/local/lib/python3.11/dist-packages (from openfermion>=0.5->openfermionpsi4) (3.5)\n",
            "Requirement already satisfied: pubchempy in /usr/local/lib/python3.11/dist-packages (from openfermion>=0.5->openfermionpsi4) (1.0.4)\n",
            "Requirement already satisfied: requests~=2.18 in /usr/local/lib/python3.11/dist-packages (from openfermion>=0.5->openfermionpsi4) (2.32.3)\n",
            "Requirement already satisfied: charset-normalizer<4,>=2 in /usr/local/lib/python3.11/dist-packages (from requests~=2.18->openfermion>=0.5->openfermionpsi4) (3.4.2)\n",
            "Requirement already satisfied: idna<4,>=2.5 in /usr/local/lib/python3.11/dist-packages (from requests~=2.18->openfermion>=0.5->openfermionpsi4) (3.10)\n",
            "Requirement already satisfied: urllib3<3,>=1.21.1 in /usr/local/lib/python3.11/dist-packages (from requests~=2.18->openfermion>=0.5->openfermionpsi4) (2.4.0)\n",
            "Requirement already satisfied: certifi>=2017.4.17 in /usr/local/lib/python3.11/dist-packages (from requests~=2.18->openfermion>=0.5->openfermionpsi4) (2025.4.26)\n",
            "Downloading openfermionpsi4-0.5-py3-none-any.whl (16 kB)\n",
            "Installing collected packages: openfermionpsi4\n",
            "Successfully installed openfermionpsi4-0.5\n",
            "Compiling src_cpp/sparse_math.pyx because it changed.\n",
            "Compiling src_cpp/hilbert_math.pyx because it changed.\n",
            "Compiling src_cpp/hamiltonian_math.pyx because it changed.\n",
            "[1/3] Cythonizing src_cpp/hamiltonian_math.pyx\n",
            "/usr/local/lib/python3.11/dist-packages/Cython/Compiler/Main.py:381: FutureWarning: Cython directive 'language_level' not set, using '3str' for now (Py3). This has changed from earlier releases! File: /content/naqs-for-quantum-chemistry/naqs-for-quantum-chemistry/src_cpp/hamiltonian_math.pyx\n",
            "  tree = Parsing.p_module(s, pxd, full_module_name)\n",
            "[2/3] Cythonizing src_cpp/hilbert_math.pyx\n",
            "/usr/local/lib/python3.11/dist-packages/Cython/Compiler/Main.py:381: FutureWarning: Cython directive 'language_level' not set, using '3str' for now (Py3). This has changed from earlier releases! File: /content/naqs-for-quantum-chemistry/naqs-for-quantum-chemistry/src_cpp/hilbert_math.pyx\n",
            "  tree = Parsing.p_module(s, pxd, full_module_name)\n",
            "[3/3] Cythonizing src_cpp/sparse_math.pyx\n",
            "/usr/local/lib/python3.11/dist-packages/Cython/Compiler/Main.py:381: FutureWarning: Cython directive 'language_level' not set, using '3str' for now (Py3). This has changed from earlier releases! File: /content/naqs-for-quantum-chemistry/naqs-for-quantum-chemistry/src_cpp/sparse_math.pyx\n",
            "  tree = Parsing.p_module(s, pxd, full_module_name)\n",
            "/usr/local/lib/python3.11/dist-packages/setuptools/__init__.py:94: _DeprecatedInstaller: setuptools.installer and fetch_build_eggs are deprecated.\n",
            "!!\n",
            "\n",
            "        ********************************************************************************\n",
            "        Requirements should be satisfied by a PEP 517 installer.\n",
            "        If you are using pip, you can try `pip install --use-pep517`.\n",
            "        ********************************************************************************\n",
            "\n",
            "!!\n",
            "  dist.fetch_build_eggs(dist.setup_requires)\n",
            "running build_ext\n",
            "building 'src.utils.sparse_math' extension\n",
            "creating build/temp.linux-x86_64-cpython-311/src_cpp\n",
            "x86_64-linux-gnu-gcc -Wsign-compare -DNDEBUG -g -fwrapv -O2 -Wall -g -fstack-protector-strong -Wformat -Werror=format-security -g -fwrapv -O2 -fPIC -I/usr/local/lib/python3.11/dist-packages/numpy/_core/include -I/usr/include/python3.11 -c src_cpp/sparse_math.c -o build/temp.linux-x86_64-cpython-311/src_cpp/sparse_math.o -fopenmp\n",
            "In file included from \u001b[01m\u001b[K/usr/local/lib/python3.11/dist-packages/numpy/_core/include/numpy/ndarraytypes.h:1909\u001b[m\u001b[K,\n",
            "                 from \u001b[01m\u001b[K/usr/local/lib/python3.11/dist-packages/numpy/_core/include/numpy/ndarrayobject.h:12\u001b[m\u001b[K,\n",
            "                 from \u001b[01m\u001b[K/usr/local/lib/python3.11/dist-packages/numpy/_core/include/numpy/arrayobject.h:5\u001b[m\u001b[K,\n",
            "                 from \u001b[01m\u001b[Ksrc_cpp/sparse_math.c:1246\u001b[m\u001b[K:\n",
            "\u001b[01m\u001b[K/usr/local/lib/python3.11/dist-packages/numpy/_core/include/numpy/npy_1_7_deprecated_api.h:17:2:\u001b[m\u001b[K \u001b[01;35m\u001b[Kwarning: \u001b[m\u001b[K#warning \"Using deprecated NumPy API, disable it with \" \"#define NPY_NO_DEPRECATED_API NPY_1_7_API_VERSION\" [\u001b[01;35m\u001b[K\u001b]8;;https://gcc.gnu.org/onlinedocs/gcc/Warning-Options.html#index-Wcpp\u0007-Wcpp\u001b]8;;\u0007\u001b[m\u001b[K]\n",
            "   17 | #\u001b[01;35m\u001b[Kwarning\u001b[m\u001b[K \"Using deprecated NumPy API, disable it with \" \\\n",
            "      |  \u001b[01;35m\u001b[K^~~~~~~\u001b[m\u001b[K\n",
            "creating build/lib.linux-x86_64-cpython-311/src/utils\n",
            "x86_64-linux-gnu-gcc -shared -Wl,-O1 -Wl,-Bsymbolic-functions -Wl,-Bsymbolic-functions -g -fwrapv -O2 build/temp.linux-x86_64-cpython-311/src_cpp/sparse_math.o -L/usr/lib/x86_64-linux-gnu -o build/lib.linux-x86_64-cpython-311/src/utils/sparse_math.cpython-311-x86_64-linux-gnu.so -fopenmp\n",
            "building 'src.utils.hilbert_math' extension\n",
            "x86_64-linux-gnu-gcc -Wsign-compare -DNDEBUG -g -fwrapv -O2 -Wall -g -fstack-protector-strong -Wformat -Werror=format-security -g -fwrapv -O2 -fPIC -I/usr/local/lib/python3.11/dist-packages/numpy/_core/include -I/usr/include/python3.11 -c src_cpp/hilbert_math.c -o build/temp.linux-x86_64-cpython-311/src_cpp/hilbert_math.o -fopenmp\n",
            "In file included from \u001b[01m\u001b[K/usr/local/lib/python3.11/dist-packages/numpy/_core/include/numpy/ndarraytypes.h:1909\u001b[m\u001b[K,\n",
            "                 from \u001b[01m\u001b[K/usr/local/lib/python3.11/dist-packages/numpy/_core/include/numpy/ndarrayobject.h:12\u001b[m\u001b[K,\n",
            "                 from \u001b[01m\u001b[K/usr/local/lib/python3.11/dist-packages/numpy/_core/include/numpy/arrayobject.h:5\u001b[m\u001b[K,\n",
            "                 from \u001b[01m\u001b[Ksrc_cpp/hilbert_math.c:1246\u001b[m\u001b[K:\n",
            "\u001b[01m\u001b[K/usr/local/lib/python3.11/dist-packages/numpy/_core/include/numpy/npy_1_7_deprecated_api.h:17:2:\u001b[m\u001b[K \u001b[01;35m\u001b[Kwarning: \u001b[m\u001b[K#warning \"Using deprecated NumPy API, disable it with \" \"#define NPY_NO_DEPRECATED_API NPY_1_7_API_VERSION\" [\u001b[01;35m\u001b[K\u001b]8;;https://gcc.gnu.org/onlinedocs/gcc/Warning-Options.html#index-Wcpp\u0007-Wcpp\u001b]8;;\u0007\u001b[m\u001b[K]\n",
            "   17 | #\u001b[01;35m\u001b[Kwarning\u001b[m\u001b[K \"Using deprecated NumPy API, disable it with \" \\\n",
            "      |  \u001b[01;35m\u001b[K^~~~~~~\u001b[m\u001b[K\n",
            "\u001b[01m\u001b[Ksrc_cpp/hilbert_math.c:\u001b[m\u001b[K In function ‘\u001b[01m\u001b[K__pyx_f_3src_5utils_12hilbert_math___make_basis_idxs_cy\u001b[m\u001b[K’:\n",
            "\u001b[01m\u001b[Ksrc_cpp/hilbert_math.c:4901:38:\u001b[m\u001b[K \u001b[01;31m\u001b[Kerror: \u001b[m\u001b[Kinvalid type for iteration variable ‘\u001b[01m\u001b[K__pyx_t_9\u001b[m\u001b[K’\n",
            " 4901 |                     for (__pyx_t_9 = \u001b[01;31m\u001b[K0\u001b[m\u001b[K; __pyx_t_9 < __pyx_t_10; __pyx_t_9++){\n",
            "      |                                      \u001b[01;31m\u001b[K^\u001b[m\u001b[K\n",
            "\u001b[01m\u001b[Ksrc_cpp/hilbert_math.c:\u001b[m\u001b[K In function ‘\u001b[01m\u001b[K__pyx_f_3src_5utils_12hilbert_math___make_basis_idxs_int64_cy\u001b[m\u001b[K’:\n",
            "\u001b[01m\u001b[Ksrc_cpp/hilbert_math.c:5228:38:\u001b[m\u001b[K \u001b[01;31m\u001b[Kerror: \u001b[m\u001b[Kinvalid type for iteration variable ‘\u001b[01m\u001b[K__pyx_t_9\u001b[m\u001b[K’\n",
            " 5228 |                     for (__pyx_t_9 = \u001b[01;31m\u001b[K0\u001b[m\u001b[K; __pyx_t_9 < __pyx_t_10; __pyx_t_9++){\n",
            "      |                                      \u001b[01;31m\u001b[K^\u001b[m\u001b[K\n",
            "error: command '/usr/bin/x86_64-linux-gnu-gcc' failed with exit code 1\n"
          ]
        }
      ],
      "source": [
        "!chmod -R u+x experiments/bash/naqs\n",
        "\n",
        "try:\n",
        "    import openfermion as of\n",
        "except:\n",
        "    !python -m pip install openfermion==0.11.0\n",
        "    !python -m pip install openfermionpsi4\n",
        "\n",
        "!python src_cpp/setup.py build_ext --inplace --force"
      ]
    },
    {
      "cell_type": "markdown",
      "metadata": {
        "id": "ihJk4C_TWYyN"
      },
      "source": [
        "Behind the scence, the script to run specific experiments is ``experiments.run``, however there are many ways to configure this, some of which are not discussed in the paper.  For completeness, the optional arguments can be viewed by running with a ``-h`` or ``--help`` flag."
      ]
    },
    {
      "cell_type": "code",
      "execution_count": null,
      "metadata": {
        "collapsed": true,
        "id": "_oNNoPejWYyP"
      },
      "outputs": [],
      "source": [
        "!python -u -m experiments.run -h"
      ]
    },
    {
      "cell_type": "markdown",
      "metadata": {
        "id": "8VTbTBEIWYyS"
      },
      "source": [
        "An example of a configured script, would be this."
      ]
    },
    {
      "cell_type": "code",
      "execution_count": null,
      "metadata": {
        "collapsed": true,
        "id": "R4JFAYIgWYyU"
      },
      "outputs": [],
      "source": [
        "!python -u -m experiments.run -o \"data/LiH\" -m \"molecules/LiH\" -single_phase -n1 -n_layer 1 -n_hid 16 -n_layer_phase 1 -n_hid_phase 32 -lr 0.001 -s 1 -n_train 3000 -output_freq 25 -save_freq -1"
      ]
    },
    {
      "cell_type": "markdown",
      "metadata": {
        "id": "tcooEydvWYyW"
      },
      "source": [
        "To ***reproduce the results reported in the paper***, batch training scripts which will perform 5 optimisations with different seeds using all the correct hyperparemeters are provided.  Each script takes the GPU number to use and the molecule name, corresponding to the a sub-folder in ``molecules``."
      ]
    },
    {
      "cell_type": "code",
      "execution_count": null,
      "metadata": {
        "collapsed": true,
        "id": "uANfoQujWYyZ"
      },
      "outputs": [],
      "source": [
        "!experiments/bash/naqs/batch_train.sh 0 LiH\n",
        "# !experiments/bash/naqs/batch_train_no_amp_sym.sh 0 LiH\n",
        "# !experiments/bash/naqs/batch_train_no_mask.sh 0 LiH\n",
        "# !experiments/bash/naqs/batch_train_full_mask.sh 0 LiH"
      ]
    },
    {
      "cell_type": "markdown",
      "metadata": {
        "id": "7kRWYFgVWYyc"
      },
      "source": [
        "# 2. Solve molecules using Psi4 (baseline calculations)\n",
        "\n",
        "First, install Psi4 into a miniconda environment."
      ]
    },
    {
      "cell_type": "code",
      "execution_count": null,
      "metadata": {
        "collapsed": true,
        "id": "pxoeF6e6WYyh"
      },
      "outputs": [],
      "source": [
        "import sys\n",
        "\n",
        "# Conda env creation and Psi 4 installation.\n",
        "!wget https://repo.continuum.io/miniconda/Miniconda3-4.5.4-Linux-x86_64.sh\n",
        "!bash Miniconda3-4.5.4-Linux-x86_64.sh -bfp /usr/local\n",
        "sys.path.append('/usr/local/lib/python3.6/site-packages')\n",
        "!conda install -c psi4 psi4 -y"
      ]
    },
    {
      "cell_type": "markdown",
      "metadata": {
        "id": "XzBtQC72WYyk"
      },
      "source": [
        "Then run pre-prepared scripts."
      ]
    },
    {
      "cell_type": "code",
      "execution_count": null,
      "metadata": {
        "collapsed": true,
        "id": "7nqqJwU2WYym"
      },
      "outputs": [],
      "source": [
        "!psi4 experiments/bash/psi4/LiH.dat"
      ]
    }
  ],
  "metadata": {
    "kernelspec": {
      "display_name": "Python [conda env:quant-chem]",
      "language": "python",
      "name": "conda-env-quant-chem-py"
    },
    "language_info": {
      "codemirror_mode": {
        "name": "ipython",
        "version": 3
      },
      "file_extension": ".py",
      "mimetype": "text/x-python",
      "name": "python",
      "nbconvert_exporter": "python",
      "pygments_lexer": "ipython3",
      "version": "3.6.2"
    },
    "colab": {
      "provenance": []
    }
  },
  "nbformat": 4,
  "nbformat_minor": 0
}